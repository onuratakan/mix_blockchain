{
  "nbformat": 4,
  "nbformat_minor": 0,
  "metadata": {
    "colab": {
      "name": "mixblockchain.ipynb",
      "provenance": [],
      "collapsed_sections": []
    },
    "kernelspec": {
      "name": "python3",
      "display_name": "Python 3"
    }
  },
  "cells": [
    {
      "cell_type": "markdown",
      "metadata": {
        "id": "djJn38Pw_xTJ"
      },
      "source": [
        "Importing the library"
      ]
    },
    {
      "cell_type": "code",
      "metadata": {
        "id": "VudXSqmi_F6x"
      },
      "source": [
        "import json\r\n",
        "import hashlib\r\n",
        "from datetime import datetime"
      ],
      "execution_count": null,
      "outputs": []
    },
    {
      "cell_type": "markdown",
      "metadata": {
        "id": "Qai95-4V_2xu"
      },
      "source": [
        "Some printing func"
      ]
    },
    {
      "cell_type": "code",
      "metadata": {
        "id": "GXrjhYGD7Aeh"
      },
      "source": [
        "def starting_text_centered():\r\n",
        "\tprint(\" \")\r\n",
        "\tprint(\" STARTING \\n\")\r\n",
        "\r\n",
        "\r\n",
        "def ended_text_centered():\r\n",
        "\tprint(\" \")\r\n",
        "\tprint(\" ENDED \\n\")\r\n",
        "\r\n",
        "def printcentertext(text):\r\n",
        "\tprint(\" \")\r\n",
        "\tprint(text)\r\n",
        "\tprint(\" \")\r\n",
        "\r\n",
        "def banner_maker(sc_name,description,author,email):\r\n",
        "\treturn(\"\"\"Script Name    : \"\"\"+sc_name+\"\"\"\\n\"\"\"+\"\"\"Description    : \"\"\"+description+\"\"\"\\n\"\"\"+\"\"\"Author         : \"\"\"+author+\"\"\"\\n\"\"\"+\"\"\"Email          : \"\"\"+email)\r\n",
        "\r\n",
        "def question_maker(question_text=None,mode=None):\r\n",
        "\t\r\n",
        "\tif question_text == None:\r\n",
        "\t\tif mode == \"main\":\r\n",
        "\t\t\tquestion_text = \"Please enter main option: \"\r\n",
        "\t\telif mode == \"sub\":\r\n",
        "\t\t\tquestion_text = \"Please enter sub option: \"\r\n",
        "\t\telif mode == \"anykeytocontinue\":\r\n",
        "\t\t\tquestion_text = \"Press any key to continue...\"\r\n",
        "\t\r\n",
        "\treturn(input(question_text))\r\n",
        "\r\n",
        "\r\n",
        "def menu_maker(menu_number,menu_text):\r\n",
        "\treturn(str(menu_number)+\") \"+menu_text+\"\\n\")\r\n",
        "\t\r\n",
        "\r\n",
        "def quit_menu_maker(mode):\r\n",
        "\tif mode == \"main\":\r\n",
        "\t\tquit_menu_maker_result = \"\\n0) Quit \\n\"\r\n",
        "\telif mode == \"sub\":\r\n",
        "\t\tquit_menu_maker_result = \"\\n0) Quit sub menu \\n\"\r\n",
        "\treturn(quit_menu_maker_result)\r\n",
        "\r\n",
        "\r\n",
        "def menu_space():\r\n",
        "\treturn(\"\\n\")\r\n",
        "\r\n",
        "def menu_seperator():\r\n",
        "\treturn(\"\\n\"+\"*** \\n\"+\"\\n\")\r\n",
        "\r\n",
        "def menu_title(menu_title_text):\r\n",
        "\treturn(\"\\n\"+\"*** \"+menu_title_text+\" ***\"+\" \\n\"+\"\\n\")\r\n",
        "\r\n",
        "\r\n",
        "def decode(string):\r\n",
        "\treturn string.encode('utf-8')\r\n",
        "\r\n",
        "\r\n",
        "\r\n",
        "\r\n",
        "def clear():\r\n",
        "\tos.system(\"clear\")"
      ],
      "execution_count": null,
      "outputs": []
    },
    {
      "cell_type": "markdown",
      "metadata": {
        "id": "vyswOS3w_8ae"
      },
      "source": [
        "Block class"
      ]
    },
    {
      "cell_type": "code",
      "metadata": {
        "id": "nrlCL4y-_Ip3"
      },
      "source": [
        "class Block():\r\n",
        "\r\n",
        "\tdef __init__(self, index, timestamp, data, previous_hash):\r\n",
        "\t\tsuper().__init__()\r\n",
        "\t\tself.index = index\r\n",
        "\t\tself.timestamp = timestamp\r\n",
        "\t\tself.data = data\r\n",
        "\t\tself.previous_hash = previous_hash\r\n",
        "\t\tself.hash = self.calculate_hash()\r\n",
        "\r\n",
        "\tdef calculate_hash(self):\r\n",
        "\t\tstring_to_be_hashed = str(self.index) + str(self.timestamp) + self.previous_hash + json.dumps(self.data)\r\n",
        "\t\tbyte_string = string_to_be_hashed.encode()\r\n",
        "\r\n",
        "\t\treturn hashlib.sha256(byte_string).hexdigest()\r\n",
        "\r\n",
        "\tdef real_time(self):\r\n",
        "\t\treturn datetime.fromtimestamp(self.timestamp).strftime('%Y-%m-%d %H:%M:%S')\t"
      ],
      "execution_count": null,
      "outputs": []
    },
    {
      "cell_type": "markdown",
      "metadata": {
        "id": "EpQm5uSO_932"
      },
      "source": [
        "Blockchain class"
      ]
    },
    {
      "cell_type": "code",
      "metadata": {
        "id": "oQF03dD6_L8H"
      },
      "source": [
        "class Blockchain(object):\r\n",
        "\tdef __init__(self):\r\n",
        "\t\tsuper().__init__()\r\n",
        "\t\tself.chain = [Block(0, datetime.now().timestamp(), 'Genesis Block', '0')]\r\n",
        "\r\n",
        "\tdef get_previous_hash(self):\r\n",
        "\t\treturn self.chain[len(self.chain) - 1].hash\r\n",
        "\r\n",
        "\tdef is_valid(self, block):\r\n",
        "\t\tcurrent_block = self.chain[len(self.chain) - 1]\r\n",
        "\r\n",
        "\t\tif current_block.index + 1 != block.index:\r\n",
        "\t\t\treturn False\r\n",
        "\t\telif block.previous_hash != current_block.hash:\r\n",
        "\t\t\treturn False\r\n",
        "\t\telif block.hash != block.calculate_hash():\r\n",
        "\t\t\treturn False\r\n",
        "\r\n",
        "\t\treturn True\r\n",
        "\r\n",
        "\tdef add_block(self, data):\r\n",
        "\t\ttimestamp = datetime.now().timestamp()\r\n",
        "\t\tindex = len(self.chain)\r\n",
        "\t\tprevious_hash = self.get_previous_hash()\r\n",
        "\t\tnew_block = Block(index, timestamp, data, previous_hash)\r\n",
        "\r\n",
        "\t\tif self.is_valid(new_block):\r\n",
        "\t\t\tself.chain.append(new_block)\r\n",
        "\t\t\treturn new_block\r\n",
        "\t\telse:\r\n",
        "\t\t\tprint('ERROR: Block is invalid!')\r\n",
        "\r\n",
        "\tdef print_blockchain(self):\r\n",
        "\t\tprint()\r\n",
        "\t\tfor block in self.chain:\r\n",
        "\t\t\tprint(\"*** Block: \"+ '{}  {}'.format(block.index, block.real_time()) +\" ***\")\r\n",
        "\t\t\tprint(\"\\nBlock Data: \"+block.data)\r\n",
        "\t\t\tprint(\"\\nBlock Hash: \"+block.hash)\r\n",
        "\t\t\tprint(\"\\nPrevios Block Hash: \"+block.previous_hash)\r\n",
        "\t\t\tprint(\"-------------------\")\r\n",
        "\t\t\t"
      ],
      "execution_count": null,
      "outputs": []
    },
    {
      "cell_type": "markdown",
      "metadata": {
        "id": "rpxGmt6QAJ-W"
      },
      "source": [
        "Run"
      ]
    },
    {
      "cell_type": "code",
      "metadata": {
        "id": "jAxhqpuz67Bm"
      },
      "source": [
        "def start():\r\n",
        "\tprint(banner_maker(sc_name=\"MixbLockchain\",description=\"Example for blockchain system.\",author=\"Onur Atakan ULUSOY\",email=\"atadogan06@gmail.com\"))\r\n",
        "\tprintcentertext(text=\"WELCOME,The Blockchain is created.\")\r\n",
        "\r\n",
        "\r\n",
        " \r\n",
        " \r\n",
        " \r\n",
        "def add_block():\r\n",
        "\tdata = str(question_maker(question_text=\"Enter data for block : \"))\r\n",
        "\tblock = chain.add_block(data)\r\n",
        "\tprint(\"*** Block: \"+ '{}  {}'.format(block.index, block.real_time()) +\" ***\")\r\n",
        "\tprint(\"\\nBlock Data: \"+block.data)\r\n",
        "\tprint(\"\\nBlock Hash: \"+block.hash)\r\n",
        "\tprint(\"\\nPrevios Block Hash: \"+block.previous_hash)\r\n",
        "\tprint(\"-------------------\")\r\n",
        " \r\n",
        "def print_chain():\r\n",
        "\tthechain = \"\"\r\n",
        "\tfor block in chain.chain:\r\n",
        "\t\tthechain += block.hash\r\n",
        "\tprint(\"\\nAll Block is: \"+thechain+\"\\n\")\r\n",
        "\t\r\n",
        "\t\r\n",
        "def print_blocks():\r\n",
        "\tchain.print_blockchain()\r\n",
        "\t\r\n",
        "\t\r\n",
        "def show_menu():\r\n",
        "\tprint(menu_space() + \\\r\n",
        "\t  menu_maker(menu_number=\"add\",menu_text=\"Adding block\")+ \\\r\n",
        "\t   menu_space() + \\\r\n",
        "\t   menu_maker(menu_number=\"chain\",menu_text=\"Showing the chain\")+ \\\r\n",
        "\t   menu_maker(menu_number=\"blocks\",menu_text=\"Showing the all block\")+ \\\r\n",
        "\t   menu_space() + \\\r\n",
        "\t   menu_maker(menu_number=\"help\",menu_text=\"Showing the this menu\")+ \\\r\n",
        "\t  quit_menu_maker(mode=\"main\")\r\n",
        "\t)\r\n",
        " \r\n",
        "def menu(mode):\r\n",
        "\tif mode == \"showmenu\":\r\n",
        "\t\tshow_menu()\r\n",
        "\t\r\n",
        "\twhile True:\r\n",
        "\t choices_input = question_maker(mode=\"main\")\r\n",
        "\t\r\n",
        "\t if choices_input == \"add\":\r\n",
        "\t\t add_block()\r\n",
        "\t if choices_input == \"chain\":\r\n",
        "\t\t print_chain()\r\n",
        "\t if choices_input == \"blocks\":\r\n",
        "\t\t print_blocks()\t\t\r\n",
        "\t if choices_input == \"help\":\r\n",
        "\t\t show_menu()\r\n",
        "\t \r\n",
        "\t if choices_input == \"0\":\r\n",
        "\t\t exit()\r\n",
        "\r\n",
        "\t\t\r\n",
        "\t\t\r\n",
        "\t\t\r\n",
        "\t\t\r\n",
        "\t\t\r\n",
        "chain = Blockchain()\r\n",
        "start()\r\n",
        "menu(\"showmenu\")"
      ],
      "execution_count": null,
      "outputs": []
    }
  ]
}
